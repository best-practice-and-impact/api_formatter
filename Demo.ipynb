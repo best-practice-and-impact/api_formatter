{
 "cells": [
  {
   "cell_type": "code",
   "execution_count": 11,
   "metadata": {},
   "outputs": [],
   "source": [
    "from src.config_objects import MetadataConfig, COMBINED_DEFAULT"
   ]
  },
  {
   "cell_type": "markdown",
   "metadata": {},
   "source": [
    "Metadata Inisialisation"
   ]
  },
  {
   "cell_type": "code",
   "execution_count": 12,
   "metadata": {},
   "outputs": [],
   "source": [
    "schema_path=r\"data/Schema/CombinedSchema.json\"\n",
    "customised_meta=MetadataConfig(schema_path,COMBINED_DEFAULT)"
   ]
  },
  {
   "cell_type": "markdown",
   "metadata": {},
   "source": [
    "Setting values"
   ]
  },
  {
   "cell_type": "code",
   "execution_count": 13,
   "metadata": {},
   "outputs": [
    {
     "data": {
      "text/plain": [
       "'New Publication'"
      ]
     },
     "execution_count": 13,
     "metadata": {},
     "output_type": "execute_result"
    }
   ],
   "source": [
    "customised_meta.set(\"Dataset.publisher.name\",\"New Publication\")"
   ]
  },
  {
   "cell_type": "markdown",
   "metadata": {},
   "source": [
    "Query"
   ]
  },
  {
   "cell_type": "code",
   "execution_count": 14,
   "metadata": {},
   "outputs": [
    {
     "data": {
      "text/plain": [
       "'New Publication'"
      ]
     },
     "execution_count": 14,
     "metadata": {},
     "output_type": "execute_result"
    }
   ],
   "source": [
    "customised_meta.get(\"Dataset.publisher.name\")"
   ]
  },
  {
   "cell_type": "markdown",
   "metadata": {},
   "source": [
    "initial QA"
   ]
  },
  {
   "cell_type": "code",
   "execution_count": 15,
   "metadata": {},
   "outputs": [
    {
     "ename": "ValueError",
     "evalue": "Validation error for path 'type': Value 'random' is not valid for 'type'. Possible choices are: ['', 'alert', 'correction']",
     "output_type": "error",
     "traceback": [
      "\u001b[1;31m---------------------------------------------------------------------------\u001b[0m",
      "\u001b[1;31mValueError\u001b[0m                                Traceback (most recent call last)",
      "Cell \u001b[1;32mIn[15], line 1\u001b[0m\n\u001b[1;32m----> 1\u001b[0m \u001b[43mcustomised_meta\u001b[49m\u001b[38;5;241;43m.\u001b[39;49m\u001b[43mset\u001b[49m\u001b[43m(\u001b[49m\u001b[38;5;124;43m'\u001b[39;49m\u001b[38;5;124;43mEdition.alerts.type\u001b[39;49m\u001b[38;5;124;43m'\u001b[39;49m\u001b[43m,\u001b[49m\u001b[38;5;124;43m\"\u001b[39;49m\u001b[38;5;124;43mrandom\u001b[39;49m\u001b[38;5;124;43m\"\u001b[39;49m\u001b[43m)\u001b[49m\n",
      "File \u001b[1;32mc:\\Users\\nemats\\My Code\\api_formatter-main\\api_formatter\\src\\config_objects.py:219\u001b[0m, in \u001b[0;36mMetadataConfig.set\u001b[1;34m(self, nested_path, value)\u001b[0m\n\u001b[0;32m    213\u001b[0m \u001b[38;5;66;03m# except ValueError as ve:\u001b[39;00m\n\u001b[0;32m    214\u001b[0m \u001b[38;5;66;03m#     raise ValueError(str(ve))\u001b[39;00m\n\u001b[0;32m    215\u001b[0m \n\u001b[0;32m    216\u001b[0m \u001b[38;5;66;03m# except KeyError as ke:\u001b[39;00m\n\u001b[0;32m    217\u001b[0m \u001b[38;5;66;03m#     raise KeyError(str(ke))\u001b[39;00m\n\u001b[0;32m    218\u001b[0m \u001b[38;5;28;01mexcept\u001b[39;00m \u001b[38;5;167;01mValueError\u001b[39;00m \u001b[38;5;28;01mas\u001b[39;00m ve:\n\u001b[1;32m--> 219\u001b[0m     \u001b[38;5;28;01mraise\u001b[39;00m ve\n\u001b[0;32m    221\u001b[0m \u001b[38;5;28;01mexcept\u001b[39;00m \u001b[38;5;167;01mKeyError\u001b[39;00m \u001b[38;5;28;01mas\u001b[39;00m ke:\n\u001b[0;32m    222\u001b[0m     \u001b[38;5;28;01mraise\u001b[39;00m \u001b[38;5;167;01mKeyError\u001b[39;00m(\u001b[38;5;124mf\u001b[39m\u001b[38;5;124m\"\u001b[39m\u001b[38;5;124mKey error for path \u001b[39m\u001b[38;5;124m'\u001b[39m\u001b[38;5;132;01m{\u001b[39;00mnested_path\u001b[38;5;132;01m}\u001b[39;00m\u001b[38;5;124m'\u001b[39m\u001b[38;5;124m: \u001b[39m\u001b[38;5;132;01m{\u001b[39;00m\u001b[38;5;28mstr\u001b[39m(ke)\u001b[38;5;132;01m}\u001b[39;00m\u001b[38;5;124m\"\u001b[39m)\n",
      "File \u001b[1;32mc:\\Users\\nemats\\My Code\\api_formatter-main\\api_formatter\\src\\config_objects.py:198\u001b[0m, in \u001b[0;36mMetadataConfig.set\u001b[1;34m(self, nested_path, value)\u001b[0m\n\u001b[0;32m    194\u001b[0m \u001b[38;5;66;03m# Final key: validate and set\u001b[39;00m\n\u001b[0;32m    195\u001b[0m \u001b[38;5;28;01mif\u001b[39;00m i\u001b[38;5;241m==\u001b[39m\u001b[38;5;28mlen\u001b[39m(keys)\u001b[38;5;241m-\u001b[39m\u001b[38;5;241m1\u001b[39m:\n\u001b[0;32m    196\u001b[0m     \u001b[38;5;66;03m#current_schema[\"properties\"] will take the validation into the next nested field\u001b[39;00m\n\u001b[0;32m    197\u001b[0m     \u001b[38;5;66;03m#without [\"properties\"] we get key error\u001b[39;00m\n\u001b[1;32m--> 198\u001b[0m     validated_value\u001b[38;5;241m=\u001b[39m\u001b[38;5;28;43mself\u001b[39;49m\u001b[38;5;241;43m.\u001b[39;49m\u001b[43minitial_validate_and_build\u001b[49m\u001b[43m(\u001b[49m\u001b[43mkey\u001b[49m\u001b[43m,\u001b[49m\u001b[43m \u001b[49m\u001b[43mvalue\u001b[49m\u001b[43m,\u001b[49m\u001b[43m \u001b[49m\u001b[43mcurrent_schema\u001b[49m\u001b[43m[\u001b[49m\u001b[38;5;124;43m\"\u001b[39;49m\u001b[38;5;124;43mproperties\u001b[39;49m\u001b[38;5;124;43m\"\u001b[39;49m\u001b[43m]\u001b[49m\u001b[43m)\u001b[49m\n\u001b[0;32m    199\u001b[0m     current_metadata[key] \u001b[38;5;241m=\u001b[39m validated_value\n\u001b[0;32m    200\u001b[0m     \u001b[38;5;66;03m# print(f\"Assigned value for {key}: {current_metadata[key]}\")             \u001b[39;00m\n\u001b[0;32m    201\u001b[0m \u001b[38;5;66;03m# Intermediate key: go deeper \u001b[39;00m\n\u001b[0;32m    202\u001b[0m \u001b[38;5;28;01melse\u001b[39;00m:\n\u001b[0;32m    203\u001b[0m     \u001b[38;5;66;03m# Intermediate key: go deeper\u001b[39;00m\n",
      "File \u001b[1;32mc:\\Users\\nemats\\My Code\\api_formatter-main\\api_formatter\\src\\config_objects.py:270\u001b[0m, in \u001b[0;36mMetadataConfig.initial_validate_and_build\u001b[1;34m(self, key, value, schema, full_path)\u001b[0m\n\u001b[0;32m    268\u001b[0m     allowed_values\u001b[38;5;241m=\u001b[39mkey_schema[\u001b[38;5;124m\"\u001b[39m\u001b[38;5;124menum\u001b[39m\u001b[38;5;124m\"\u001b[39m]\n\u001b[0;32m    269\u001b[0m     \u001b[38;5;28;01mif\u001b[39;00m value \u001b[38;5;129;01mnot\u001b[39;00m \u001b[38;5;129;01min\u001b[39;00m allowed_values:\n\u001b[1;32m--> 270\u001b[0m         \u001b[38;5;28;01mraise\u001b[39;00m  \u001b[38;5;167;01mValueError\u001b[39;00m(\u001b[38;5;124mf\u001b[39m\u001b[38;5;124m\"\u001b[39m\u001b[38;5;124mValidation error for path \u001b[39m\u001b[38;5;124m'\u001b[39m\u001b[38;5;132;01m{\u001b[39;00mcurrent_path\u001b[38;5;132;01m}\u001b[39;00m\u001b[38;5;124m'\u001b[39m\u001b[38;5;124m: Value \u001b[39m\u001b[38;5;124m'\u001b[39m\u001b[38;5;132;01m{\u001b[39;00mvalue\u001b[38;5;132;01m}\u001b[39;00m\u001b[38;5;124m'\u001b[39m\u001b[38;5;124m is not valid for \u001b[39m\u001b[38;5;124m'\u001b[39m\u001b[38;5;132;01m{\u001b[39;00mkey\u001b[38;5;132;01m}\u001b[39;00m\u001b[38;5;124m'\u001b[39m\u001b[38;5;124m. Possible choices are: \u001b[39m\u001b[38;5;132;01m{\u001b[39;00mallowed_values\u001b[38;5;132;01m}\u001b[39;00m\u001b[38;5;124m\"\u001b[39m)\n\u001b[0;32m    271\u001b[0m     \u001b[38;5;28;01mreturn\u001b[39;00m value\n\u001b[0;32m    274\u001b[0m \u001b[38;5;66;03m#DATETIME field\u001b[39;00m\n",
      "\u001b[1;31mValueError\u001b[0m: Validation error for path 'type': Value 'random' is not valid for 'type'. Possible choices are: ['', 'alert', 'correction']"
     ]
    }
   ],
   "source": [
    "customised_meta.set('Edition.alerts.type',\"random\")"
   ]
  },
  {
   "cell_type": "code",
   "execution_count": 16,
   "metadata": {},
   "outputs": [
    {
     "ename": "ValueError",
     "evalue": "Validation error for path 'name': Expected type 'string' for 'name', but got 'int' with value '12'.",
     "output_type": "error",
     "traceback": [
      "\u001b[1;31m---------------------------------------------------------------------------\u001b[0m",
      "\u001b[1;31mValueError\u001b[0m                                Traceback (most recent call last)",
      "Cell \u001b[1;32mIn[16], line 1\u001b[0m\n\u001b[1;32m----> 1\u001b[0m \u001b[43mcustomised_meta\u001b[49m\u001b[38;5;241;43m.\u001b[39;49m\u001b[43mset\u001b[49m\u001b[43m(\u001b[49m\u001b[38;5;124;43m\"\u001b[39;49m\u001b[38;5;124;43mDataset.publisher.name\u001b[39;49m\u001b[38;5;124;43m\"\u001b[39;49m\u001b[43m,\u001b[49m\u001b[38;5;241;43m12\u001b[39;49m\u001b[43m)\u001b[49m\n",
      "File \u001b[1;32mc:\\Users\\nemats\\My Code\\api_formatter-main\\api_formatter\\src\\config_objects.py:219\u001b[0m, in \u001b[0;36mMetadataConfig.set\u001b[1;34m(self, nested_path, value)\u001b[0m\n\u001b[0;32m    213\u001b[0m \u001b[38;5;66;03m# except ValueError as ve:\u001b[39;00m\n\u001b[0;32m    214\u001b[0m \u001b[38;5;66;03m#     raise ValueError(str(ve))\u001b[39;00m\n\u001b[0;32m    215\u001b[0m \n\u001b[0;32m    216\u001b[0m \u001b[38;5;66;03m# except KeyError as ke:\u001b[39;00m\n\u001b[0;32m    217\u001b[0m \u001b[38;5;66;03m#     raise KeyError(str(ke))\u001b[39;00m\n\u001b[0;32m    218\u001b[0m \u001b[38;5;28;01mexcept\u001b[39;00m \u001b[38;5;167;01mValueError\u001b[39;00m \u001b[38;5;28;01mas\u001b[39;00m ve:\n\u001b[1;32m--> 219\u001b[0m     \u001b[38;5;28;01mraise\u001b[39;00m ve\n\u001b[0;32m    221\u001b[0m \u001b[38;5;28;01mexcept\u001b[39;00m \u001b[38;5;167;01mKeyError\u001b[39;00m \u001b[38;5;28;01mas\u001b[39;00m ke:\n\u001b[0;32m    222\u001b[0m     \u001b[38;5;28;01mraise\u001b[39;00m \u001b[38;5;167;01mKeyError\u001b[39;00m(\u001b[38;5;124mf\u001b[39m\u001b[38;5;124m\"\u001b[39m\u001b[38;5;124mKey error for path \u001b[39m\u001b[38;5;124m'\u001b[39m\u001b[38;5;132;01m{\u001b[39;00mnested_path\u001b[38;5;132;01m}\u001b[39;00m\u001b[38;5;124m'\u001b[39m\u001b[38;5;124m: \u001b[39m\u001b[38;5;132;01m{\u001b[39;00m\u001b[38;5;28mstr\u001b[39m(ke)\u001b[38;5;132;01m}\u001b[39;00m\u001b[38;5;124m\"\u001b[39m)\n",
      "File \u001b[1;32mc:\\Users\\nemats\\My Code\\api_formatter-main\\api_formatter\\src\\config_objects.py:198\u001b[0m, in \u001b[0;36mMetadataConfig.set\u001b[1;34m(self, nested_path, value)\u001b[0m\n\u001b[0;32m    194\u001b[0m \u001b[38;5;66;03m# Final key: validate and set\u001b[39;00m\n\u001b[0;32m    195\u001b[0m \u001b[38;5;28;01mif\u001b[39;00m i\u001b[38;5;241m==\u001b[39m\u001b[38;5;28mlen\u001b[39m(keys)\u001b[38;5;241m-\u001b[39m\u001b[38;5;241m1\u001b[39m:\n\u001b[0;32m    196\u001b[0m     \u001b[38;5;66;03m#current_schema[\"properties\"] will take the validation into the next nested field\u001b[39;00m\n\u001b[0;32m    197\u001b[0m     \u001b[38;5;66;03m#without [\"properties\"] we get key error\u001b[39;00m\n\u001b[1;32m--> 198\u001b[0m     validated_value\u001b[38;5;241m=\u001b[39m\u001b[38;5;28;43mself\u001b[39;49m\u001b[38;5;241;43m.\u001b[39;49m\u001b[43minitial_validate_and_build\u001b[49m\u001b[43m(\u001b[49m\u001b[43mkey\u001b[49m\u001b[43m,\u001b[49m\u001b[43m \u001b[49m\u001b[43mvalue\u001b[49m\u001b[43m,\u001b[49m\u001b[43m \u001b[49m\u001b[43mcurrent_schema\u001b[49m\u001b[43m[\u001b[49m\u001b[38;5;124;43m\"\u001b[39;49m\u001b[38;5;124;43mproperties\u001b[39;49m\u001b[38;5;124;43m\"\u001b[39;49m\u001b[43m]\u001b[49m\u001b[43m)\u001b[49m\n\u001b[0;32m    199\u001b[0m     current_metadata[key] \u001b[38;5;241m=\u001b[39m validated_value\n\u001b[0;32m    200\u001b[0m     \u001b[38;5;66;03m# print(f\"Assigned value for {key}: {current_metadata[key]}\")             \u001b[39;00m\n\u001b[0;32m    201\u001b[0m \u001b[38;5;66;03m# Intermediate key: go deeper \u001b[39;00m\n\u001b[0;32m    202\u001b[0m \u001b[38;5;28;01melse\u001b[39;00m:\n\u001b[0;32m    203\u001b[0m     \u001b[38;5;66;03m# Intermediate key: go deeper\u001b[39;00m\n",
      "File \u001b[1;32mc:\\Users\\nemats\\My Code\\api_formatter-main\\api_formatter\\src\\config_objects.py:335\u001b[0m, in \u001b[0;36mMetadataConfig.initial_validate_and_build\u001b[1;34m(self, key, value, schema, full_path)\u001b[0m\n\u001b[0;32m    325\u001b[0m     type_map \u001b[38;5;241m=\u001b[39m {\n\u001b[0;32m    326\u001b[0m         \u001b[38;5;124m\"\u001b[39m\u001b[38;5;124mstring\u001b[39m\u001b[38;5;124m\"\u001b[39m: \u001b[38;5;28mstr\u001b[39m,\n\u001b[0;32m    327\u001b[0m         \u001b[38;5;124m\"\u001b[39m\u001b[38;5;124minteger\u001b[39m\u001b[38;5;124m\"\u001b[39m: \u001b[38;5;28mint\u001b[39m,\n\u001b[1;32m   (...)\u001b[0m\n\u001b[0;32m    331\u001b[0m         \u001b[38;5;124m\"\u001b[39m\u001b[38;5;124mobject\u001b[39m\u001b[38;5;124m\"\u001b[39m: \u001b[38;5;28mdict\u001b[39m\n\u001b[0;32m    332\u001b[0m         }\n\u001b[0;32m    334\u001b[0m     \u001b[38;5;28;01mif\u001b[39;00m \u001b[38;5;129;01mnot\u001b[39;00m \u001b[38;5;28misinstance\u001b[39m(value,type_map[expected_type]):\n\u001b[1;32m--> 335\u001b[0m         \u001b[38;5;28;01mraise\u001b[39;00m \u001b[38;5;167;01mValueError\u001b[39;00m(\n\u001b[0;32m    336\u001b[0m         \u001b[38;5;124mf\u001b[39m\u001b[38;5;124m\"\u001b[39m\u001b[38;5;124mValidation error for path \u001b[39m\u001b[38;5;124m'\u001b[39m\u001b[38;5;132;01m{\u001b[39;00mcurrent_path\u001b[38;5;132;01m}\u001b[39;00m\u001b[38;5;124m'\u001b[39m\u001b[38;5;124m: Expected type \u001b[39m\u001b[38;5;124m'\u001b[39m\u001b[38;5;132;01m{\u001b[39;00mexpected_type\u001b[38;5;132;01m}\u001b[39;00m\u001b[38;5;124m'\u001b[39m\u001b[38;5;124m for \u001b[39m\u001b[38;5;124m'\u001b[39m\u001b[38;5;132;01m{\u001b[39;00mkey\u001b[38;5;132;01m}\u001b[39;00m\u001b[38;5;124m'\u001b[39m\u001b[38;5;124m, but got \u001b[39m\u001b[38;5;124m'\u001b[39m\u001b[38;5;132;01m{\u001b[39;00m\u001b[38;5;28mtype\u001b[39m(value)\u001b[38;5;241m.\u001b[39m\u001b[38;5;18m__name__\u001b[39m\u001b[38;5;132;01m}\u001b[39;00m\u001b[38;5;124m'\u001b[39m\u001b[38;5;124m with value \u001b[39m\u001b[38;5;124m'\u001b[39m\u001b[38;5;132;01m{\u001b[39;00mvalue\u001b[38;5;132;01m}\u001b[39;00m\u001b[38;5;124m'\u001b[39m\u001b[38;5;124m.\u001b[39m\u001b[38;5;124m\"\u001b[39m\n\u001b[0;32m    337\u001b[0m         )\n\u001b[0;32m    338\u001b[0m     \u001b[38;5;28;01mreturn\u001b[39;00m value\n\u001b[0;32m    341\u001b[0m \u001b[38;5;66;03m#Default: assign as is \u001b[39;00m\n\u001b[0;32m    342\u001b[0m \u001b[38;5;28;01melse\u001b[39;00m:\n\u001b[0;32m    343\u001b[0m     \u001b[38;5;66;03m# print(\"no need for validation\")\u001b[39;00m\n\u001b[0;32m    344\u001b[0m     \u001b[38;5;66;03m#BASE CASE: leaf assignment for other types\u001b[39;00m\n",
      "\u001b[1;31mValueError\u001b[0m: Validation error for path 'name': Expected type 'string' for 'name', but got 'int' with value '12'."
     ]
    }
   ],
   "source": [
    "customised_meta.set(\"Dataset.publisher.name\",12)"
   ]
  },
  {
   "cell_type": "markdown",
   "metadata": {},
   "source": [
    "Preview Metadata"
   ]
  },
  {
   "cell_type": "code",
   "execution_count": 17,
   "metadata": {},
   "outputs": [
    {
     "name": "stdout",
     "output_type": "stream",
     "text": [
      "{\n",
      "    \"Dataset\": {\n",
      "        \"id\": null,\n",
      "        \"title\": null,\n",
      "        \"description\": null,\n",
      "        \"topics\": [],\n",
      "        \"qmi\": {\n",
      "            \"href\": null\n",
      "        },\n",
      "        \"contacts\": {\n",
      "            \"name\": null,\n",
      "            \"email\": null,\n",
      "            \"telephone\": null\n",
      "        },\n",
      "        \"publisher\": {\n",
      "            \"name\": \"New Publication\",\n",
      "            \"href\": null\n",
      "        }\n",
      "    },\n",
      "    \"Edition\": {\n",
      "        \"edition\": null,\n",
      "        \"edition_title\": null,\n",
      "        \"quality_designation\": null,\n",
      "        \"usage_notes\": {\n",
      "            \"title\": [],\n",
      "            \"note\": []\n",
      "        },\n",
      "        \"alerts\": {\n",
      "            \"type\": null,\n",
      "            \"description\": null\n",
      "        },\n",
      "        \"distributions\": {\n",
      "            \"title\": null,\n",
      "            \"format\": null\n",
      "        }\n",
      "    }\n",
      "}\n"
     ]
    }
   ],
   "source": [
    "customised_meta.preview(\"json\")"
   ]
  },
  {
   "cell_type": "markdown",
   "metadata": {},
   "source": [
    "Importing a metadata"
   ]
  },
  {
   "cell_type": "code",
   "execution_count": 20,
   "metadata": {},
   "outputs": [
    {
     "data": {
      "text/plain": [
       "{'Dataset': {'id': 'child-and-infant-mortality-year-death-england-wales-2022',\n",
       "  'title': 'Table 1: Live births, stillbirths, all infant deaths and child deaths under 16: numbers and rates, 1980 to 2022',\n",
       "  'description': 'Live births, stillbirths and linked infant deaths occurring annually in England and Wales, and associated risk factors.',\n",
       "  'qmi': {'href': 'https://www.ons.gov.uk/peoplepopulationandcommunity/birthsdeathsandmarriages/deaths/methodologies/childmortalitystatisticsqmi'},\n",
       "  'topics': ['Population', 'Child mortality'],\n",
       "  'contacts': {'name': 'Population Health Monitoring Group',\n",
       "   'email': 'Health.Data@ons.gov.uk',\n",
       "   'telephone': '+44 1329 444110'},\n",
       "  'publisher': {'name': 'ONS',\n",
       "   'href': 'https://www.gov.uk/government/organisations/office-for-national-statistics'}},\n",
       " 'Edition': {'edition': 'may-2024',\n",
       "  'edition_title': '',\n",
       "  'quality_designation': 'accredited-official',\n",
       "  'usage_notes': {'title': ['note 1',\n",
       "    'note 2',\n",
       "    'note 3',\n",
       "    'note 4',\n",
       "    'note 5',\n",
       "    'note 6'],\n",
       "   'note': ['note1',\n",
       "    'note 2: On 1 October 1992 the Stillbirth (Definition) Act 1992 came into force, altering the definition of a stillbirth to 24 or more weeks completed gestation, instead of 28 or more weeks completed gestation. Therefore, figures for stillbirths from 1993 are not fully comparable with those for previous years. The figures for 1992 exclude the 216 stillbirths of 24-27 weeks gestation that occurred between 1 October and 31 December. See section 3.1 of User guide to child and infant mortality statistics.',\n",
       "    'note 3: Rates were not calculated where there were fewer than 3 deaths, denoted by a [x]; rates based on such low numbers are susceptible to inaccurate interpretation. Rates calculated where there were between 3 and 19 deaths are denoted by a [u] as a warning to the user that their reliability as a measure may be affected by the small number of events.',\n",
       "    'note 4: Stillbirths and early neonatal deaths per 1,000 live births and stillbirths. ',\n",
       "    'note 5: Early neonatal, neonatal, postneonatal and infant deaths per 1,000 live births.',\n",
       "    'note 6: Childhood deaths per 100,000 persons in that age group in population. Childhood rates for 2022 have been calculated using provisional mid-2022 population estimates. Rates for 2012 to 2022 will be revised in future when mid-year population estimates (based on the 2021 Census) are available. See cover sheet for more information.']},\n",
       "  'alerts': {'type': '', 'description': ''},\n",
       "  'distributions': {'title': 'cim2022deathcohortworkbook', 'format': 'xlsx'}}}"
      ]
     },
     "execution_count": 20,
     "metadata": {},
     "output_type": "execute_result"
    }
   ],
   "source": [
    "example=r\"data/Metadata Samples/custom_example.json\"\n",
    "customised_meta.load_metadata_from_file(example)"
   ]
  },
  {
   "cell_type": "markdown",
   "metadata": {},
   "source": [
    "Quality Assurance Check"
   ]
  },
  {
   "cell_type": "code",
   "execution_count": 21,
   "metadata": {},
   "outputs": [
    {
     "name": "stdout",
     "output_type": "stream",
     "text": [
      "Validation passed!\n"
     ]
    }
   ],
   "source": [
    "customised_meta.validate()\n",
    "customised_meta.print_QA_errors()"
   ]
  }
 ],
 "metadata": {
  "kernelspec": {
   "display_name": "Python 3",
   "language": "python",
   "name": "python3"
  },
  "language_info": {
   "codemirror_mode": {
    "name": "ipython",
    "version": 3
   },
   "file_extension": ".py",
   "mimetype": "text/x-python",
   "name": "python",
   "nbconvert_exporter": "python",
   "pygments_lexer": "ipython3",
   "version": "3.12.5"
  }
 },
 "nbformat": 4,
 "nbformat_minor": 2
}
